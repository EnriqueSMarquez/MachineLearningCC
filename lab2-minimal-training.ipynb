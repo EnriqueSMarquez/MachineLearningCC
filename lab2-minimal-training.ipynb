{
 "cells": [
  {
   "cell_type": "markdown",
   "id": "3c7157c9-720b-4d4d-b709-9ce9347eb483",
   "metadata": {},
   "source": [
    "# Lab 2\n",
    "## Ejemplo 1\n",
    "### Flowers detections"
   ]
  },
  {
   "cell_type": "code",
   "execution_count": null,
   "id": "c75b7b16-39bd-46a7-8c5e-c14252f9dfbd",
   "metadata": {},
   "outputs": [],
   "source": [
    "import numpy as np\n",
    "import torch\n",
    "from torchvision import models, transforms\n",
    "from PIL import Image\n",
    "from tqdm.notebook import tqdm\n",
    "import os\n",
    "import cv2\n",
    "from sklearn.ensemble import RandomForestClassifier\n",
    "from sklearn.metrics import confusion_matrix\n",
    "import matplotlib\n",
    "import matplotlib.pyplot as plt\n",
    "import seaborn as sbn\n",
    "\n",
    "sbn.set('notebook')\n",
    "sbn.set_style('whitegrid')\n",
    "\n",
    "class FeatureExtractor:\n",
    "    def __init__(self):\n",
    "        self.model = models.vgg19(weights='IMAGENET1K_V1') #Definimos el modelo\n",
    "        self.max_pooling_indices = [9, 18, 27, 36] #Indices de capas donde vamos a cortar el modelo\n",
    "        self.model.eval() #Inference mode\n",
    "        \n",
    "    @torch.no_grad()\n",
    "    def extract_feature_vector(self, x, stage=0, verbose=False):\n",
    "        for i, feature in enumerate(self.model.features): #Loop features until reaching desired stage\n",
    "            if verbose:\n",
    "                print(f'Passing through layer {type(feature)}')\n",
    "            if i == self.max_pooling_indices[stage]:\n",
    "                return x\n",
    "            x = feature(x)\n",
    "\n",
    "#Common letter box resize\n",
    "def resize_image(image, size):\n",
    "    h,w,c = image.shape\n",
    "\n",
    "    if h > w:\n",
    "        w = int(size*w/h)\n",
    "        h = size\n",
    "    else:\n",
    "        h = int(size*h/w)\n",
    "        w = size\n",
    "    new_image = np.zeros((size, size, 3), dtype=np.uint8)\n",
    "\n",
    "    image = cv2.resize(image, (w, h))\n",
    "    new_image[0:h, 0:w, :] = image\n",
    "    return new_image\n"
   ]
  },
  {
   "cell_type": "code",
   "execution_count": 2,
   "id": "4ea23e6f-7a91-456e-bb10-fb4ec3f85f5b",
   "metadata": {},
   "outputs": [
    {
     "data": {
      "application/vnd.jupyter.widget-view+json": {
       "model_id": "28e17c867cce4a56b100981c92ede62b",
       "version_major": 2,
       "version_minor": 0
      },
      "text/plain": [
       "  0%|          | 0/10 [00:00<?, ?it/s]"
      ]
     },
     "metadata": {},
     "output_type": "display_data"
    },
    {
     "data": {
      "application/vnd.jupyter.widget-view+json": {
       "model_id": "",
       "version_major": 2,
       "version_minor": 0
      },
      "text/plain": [
       "  0%|          | 0/40 [00:00<?, ?it/s]"
      ]
     },
     "metadata": {},
     "output_type": "display_data"
    },
    {
     "data": {
      "application/vnd.jupyter.widget-view+json": {
       "model_id": "",
       "version_major": 2,
       "version_minor": 0
      },
      "text/plain": [
       "  0%|          | 0/40 [00:00<?, ?it/s]"
      ]
     },
     "metadata": {},
     "output_type": "display_data"
    },
    {
     "data": {
      "application/vnd.jupyter.widget-view+json": {
       "model_id": "",
       "version_major": 2,
       "version_minor": 0
      },
      "text/plain": [
       "  0%|          | 0/40 [00:00<?, ?it/s]"
      ]
     },
     "metadata": {},
     "output_type": "display_data"
    },
    {
     "data": {
      "application/vnd.jupyter.widget-view+json": {
       "model_id": "",
       "version_major": 2,
       "version_minor": 0
      },
      "text/plain": [
       "  0%|          | 0/40 [00:00<?, ?it/s]"
      ]
     },
     "metadata": {},
     "output_type": "display_data"
    },
    {
     "data": {
      "application/vnd.jupyter.widget-view+json": {
       "model_id": "",
       "version_major": 2,
       "version_minor": 0
      },
      "text/plain": [
       "  0%|          | 0/40 [00:00<?, ?it/s]"
      ]
     },
     "metadata": {},
     "output_type": "display_data"
    },
    {
     "data": {
      "application/vnd.jupyter.widget-view+json": {
       "model_id": "",
       "version_major": 2,
       "version_minor": 0
      },
      "text/plain": [
       "  0%|          | 0/40 [00:00<?, ?it/s]"
      ]
     },
     "metadata": {},
     "output_type": "display_data"
    },
    {
     "data": {
      "application/vnd.jupyter.widget-view+json": {
       "model_id": "",
       "version_major": 2,
       "version_minor": 0
      },
      "text/plain": [
       "  0%|          | 0/40 [00:00<?, ?it/s]"
      ]
     },
     "metadata": {},
     "output_type": "display_data"
    },
    {
     "data": {
      "application/vnd.jupyter.widget-view+json": {
       "model_id": "",
       "version_major": 2,
       "version_minor": 0
      },
      "text/plain": [
       "  0%|          | 0/40 [00:00<?, ?it/s]"
      ]
     },
     "metadata": {},
     "output_type": "display_data"
    },
    {
     "data": {
      "application/vnd.jupyter.widget-view+json": {
       "model_id": "",
       "version_major": 2,
       "version_minor": 0
      },
      "text/plain": [
       "  0%|          | 0/40 [00:00<?, ?it/s]"
      ]
     },
     "metadata": {},
     "output_type": "display_data"
    }
   ],
   "source": [
    "## TRANSFORMAR IMAGE DATASET A VECTORES DE LA VGG\n",
    "split_frac = 0.7\n",
    "\n",
    "feature_extractor = FeatureExtractor()\n",
    "backbone_transforms = transforms.Compose([transforms.ToTensor(),\n",
    "                                          transforms.Normalize([0.485, 0.456, 0.406], [0.229, 0.224, 0.225])])\n",
    "# Utilizando el dataset de frutas\n",
    "fruits_dataset_path = './data/fruits_dataset/'\n",
    "training_labels, training_feature_vectors  = [], []\n",
    "validation_labels, validation_feature_vectors = [], []\n",
    "\n",
    "#para todas las carpetas\n",
    "for label_name in tqdm(os.listdir(fruits_dataset_path)):\n",
    "    if label_name == '.DS_Store':\n",
    "        continue\n",
    "    folder_path = os.path.join(fruits_dataset_path, label_name)\n",
    "    #para todas las imagenes en la carpeta\n",
    "    for image_name in tqdm(os.listdir(folder_path), leave=False):\n",
    "        image_path = os.path.join(folder_path, image_name)\n",
    "        image = Image.open(image_path)\n",
    "        if image.mode in ['RGBA', 'L', 'P']:\n",
    "            image = image.convert('RGB')\n",
    "        image = np.array(image)[...,::-1]\n",
    "        #necesario resize porque imagenes tienen distintos tamaños y fvs tienen q tener la misma dimensionalidad\n",
    "        image = resize_image(image, 255)\n",
    "        transformed_image = backbone_transforms(image).unsqueeze(0)\n",
    "        feature_vector = feature_extractor.extract_feature_vector(transformed_image, 3).flatten().numpy()\n",
    "        # training o validation\n",
    "        if np.random.rand() < split_frac:\n",
    "            training_feature_vectors += [feature_vector]\n",
    "            training_labels += [label_name]\n",
    "        else:\n",
    "            validation_feature_vectors += [feature_vector]\n",
    "            validation_labels += [label_name]\n",
    "        "
   ]
  },
  {
   "cell_type": "code",
   "execution_count": 3,
   "id": "133086f9-dfd1-4a96-bfb0-4d69d970d0dd",
   "metadata": {},
   "outputs": [],
   "source": [
    "## fv_dataset pasa a ser nuestor nuevo dataset de vectores\n",
    "training_feature_vectors = np.array(training_feature_vectors)\n",
    "validation_feature_vectors = np.array(validation_feature_vectors)\n",
    "training_labels = np.array(training_labels)\n",
    "##Randomizing data para evitar seguimiento de labels iguales (debido a estructura de la data)\n",
    "permutation = np.random.permutation(len(training_feature_vectors))\n",
    "training_feature_vectors = training_feature_vectors[permutation]\n",
    "training_labels = training_labels[permutation]\n",
    "\n",
    "#labels estan en formato string hay q pasarlo a integer usando un dict mapping\n",
    "labels_to_index = {label_name: i for i,label_name in enumerate(np.unique(training_labels))}\n",
    "## labels to categories\n",
    "training_y = [labels_to_index[label] for label in training_labels]\n",
    "validation_y = [labels_to_index[label] for label in validation_labels]\n"
   ]
  },
  {
   "cell_type": "code",
   "execution_count": 4,
   "id": "ed0129e6-5970-43d2-9344-1ae834e99300",
   "metadata": {},
   "outputs": [
    {
     "data": {
      "text/html": [
       "<style>#sk-container-id-1 {color: black;}#sk-container-id-1 pre{padding: 0;}#sk-container-id-1 div.sk-toggleable {background-color: white;}#sk-container-id-1 label.sk-toggleable__label {cursor: pointer;display: block;width: 100%;margin-bottom: 0;padding: 0.3em;box-sizing: border-box;text-align: center;}#sk-container-id-1 label.sk-toggleable__label-arrow:before {content: \"▸\";float: left;margin-right: 0.25em;color: #696969;}#sk-container-id-1 label.sk-toggleable__label-arrow:hover:before {color: black;}#sk-container-id-1 div.sk-estimator:hover label.sk-toggleable__label-arrow:before {color: black;}#sk-container-id-1 div.sk-toggleable__content {max-height: 0;max-width: 0;overflow: hidden;text-align: left;background-color: #f0f8ff;}#sk-container-id-1 div.sk-toggleable__content pre {margin: 0.2em;color: black;border-radius: 0.25em;background-color: #f0f8ff;}#sk-container-id-1 input.sk-toggleable__control:checked~div.sk-toggleable__content {max-height: 200px;max-width: 100%;overflow: auto;}#sk-container-id-1 input.sk-toggleable__control:checked~label.sk-toggleable__label-arrow:before {content: \"▾\";}#sk-container-id-1 div.sk-estimator input.sk-toggleable__control:checked~label.sk-toggleable__label {background-color: #d4ebff;}#sk-container-id-1 div.sk-label input.sk-toggleable__control:checked~label.sk-toggleable__label {background-color: #d4ebff;}#sk-container-id-1 input.sk-hidden--visually {border: 0;clip: rect(1px 1px 1px 1px);clip: rect(1px, 1px, 1px, 1px);height: 1px;margin: -1px;overflow: hidden;padding: 0;position: absolute;width: 1px;}#sk-container-id-1 div.sk-estimator {font-family: monospace;background-color: #f0f8ff;border: 1px dotted black;border-radius: 0.25em;box-sizing: border-box;margin-bottom: 0.5em;}#sk-container-id-1 div.sk-estimator:hover {background-color: #d4ebff;}#sk-container-id-1 div.sk-parallel-item::after {content: \"\";width: 100%;border-bottom: 1px solid gray;flex-grow: 1;}#sk-container-id-1 div.sk-label:hover label.sk-toggleable__label {background-color: #d4ebff;}#sk-container-id-1 div.sk-serial::before {content: \"\";position: absolute;border-left: 1px solid gray;box-sizing: border-box;top: 0;bottom: 0;left: 50%;z-index: 0;}#sk-container-id-1 div.sk-serial {display: flex;flex-direction: column;align-items: center;background-color: white;padding-right: 0.2em;padding-left: 0.2em;position: relative;}#sk-container-id-1 div.sk-item {position: relative;z-index: 1;}#sk-container-id-1 div.sk-parallel {display: flex;align-items: stretch;justify-content: center;background-color: white;position: relative;}#sk-container-id-1 div.sk-item::before, #sk-container-id-1 div.sk-parallel-item::before {content: \"\";position: absolute;border-left: 1px solid gray;box-sizing: border-box;top: 0;bottom: 0;left: 50%;z-index: -1;}#sk-container-id-1 div.sk-parallel-item {display: flex;flex-direction: column;z-index: 1;position: relative;background-color: white;}#sk-container-id-1 div.sk-parallel-item:first-child::after {align-self: flex-end;width: 50%;}#sk-container-id-1 div.sk-parallel-item:last-child::after {align-self: flex-start;width: 50%;}#sk-container-id-1 div.sk-parallel-item:only-child::after {width: 0;}#sk-container-id-1 div.sk-dashed-wrapped {border: 1px dashed gray;margin: 0 0.4em 0.5em 0.4em;box-sizing: border-box;padding-bottom: 0.4em;background-color: white;}#sk-container-id-1 div.sk-label label {font-family: monospace;font-weight: bold;display: inline-block;line-height: 1.2em;}#sk-container-id-1 div.sk-label-container {text-align: center;}#sk-container-id-1 div.sk-container {/* jupyter's `normalize.less` sets `[hidden] { display: none; }` but bootstrap.min.css set `[hidden] { display: none !important; }` so we also need the `!important` here to be able to override the default hidden behavior on the sphinx rendered scikit-learn.org. See: https://github.com/scikit-learn/scikit-learn/issues/21755 */display: inline-block !important;position: relative;}#sk-container-id-1 div.sk-text-repr-fallback {display: none;}</style><div id=\"sk-container-id-1\" class=\"sk-top-container\"><div class=\"sk-text-repr-fallback\"><pre>RandomForestClassifier()</pre><b>In a Jupyter environment, please rerun this cell to show the HTML representation or trust the notebook. <br />On GitHub, the HTML representation is unable to render, please try loading this page with nbviewer.org.</b></div><div class=\"sk-container\" hidden><div class=\"sk-item\"><div class=\"sk-estimator sk-toggleable\"><input class=\"sk-toggleable__control sk-hidden--visually\" id=\"sk-estimator-id-1\" type=\"checkbox\" checked><label for=\"sk-estimator-id-1\" class=\"sk-toggleable__label sk-toggleable__label-arrow\">RandomForestClassifier</label><div class=\"sk-toggleable__content\"><pre>RandomForestClassifier()</pre></div></div></div></div></div>"
      ],
      "text/plain": [
       "RandomForestClassifier()"
      ]
     },
     "execution_count": 4,
     "metadata": {},
     "output_type": "execute_result"
    }
   ],
   "source": [
    "## Train traditional ML model\n",
    "rf = RandomForestClassifier()\n",
    "rf.fit(training_feature_vectors, training_y)"
   ]
  },
  {
   "cell_type": "code",
   "execution_count": 5,
   "id": "747aef49-593b-4262-aeb4-95c7392f44ba",
   "metadata": {},
   "outputs": [],
   "source": [
    "## Evaluate on validation\n",
    "validation_predictions = rf.predict(validation_feature_vectors)\n",
    "cm = confusion_matrix(validation_y, validation_predictions)"
   ]
  },
  {
   "cell_type": "code",
   "execution_count": 7,
   "id": "e33c1e7d-eb65-4963-a1ac-5bd54141e08f",
   "metadata": {},
   "outputs": [
    {
     "data": {
      "text/plain": [
       "Text(47.25, 0.5, 'True label')"
      ]
     },
     "execution_count": 7,
     "metadata": {},
     "output_type": "execute_result"
    },
    {
     "data": {
      "image/png": "[encoded data removed]",
      "text/plain": [
       "<Figure size 640x480 with 2 Axes>"
      ]
     },
     "metadata": {},
     "output_type": "display_data"
    }
   ],
   "source": [
    "plt.figure()\n",
    "sbn.heatmap(cm, annot=True)\n",
    "plt.xlabel('Predicted')\n",
    "plt.ylabel('True label')\n",
    "plt.figure()\n",
    "sbn.heatmap(cm, annot=True)\n",
    "plt.xlabel('Predicted')\n",
    "plt.ylabel('True label')"
   ]
  },
  {
   "cell_type": "markdown",
   "id": "b09b3feb-297a-4bd5-b228-7ba6c6174a25",
   "metadata": {},
   "source": [
    "## NOTAS a considerar sobre este notebook\n",
    "- No se incluyo una random seed para el split o la creación del modelo\n",
    "- Solo se visualizó la matriz de confusion y no se realizo ningun otro analisis. Queda del lado del estudiante realizar evaluaciones rigurosas que permitan comparar multiples approaches\n",
    "- Apoyarse en el lab anterior para las tareas que tienen de forma común"
   ]
  },
  {
   "cell_type": "code",
   "execution_count": null,
   "id": "7c25d205-b90b-42bf-b6fe-3c28af34c7f2",
   "metadata": {},
   "outputs": [],
   "source": []
  }
 ],
 "metadata": {
  "kernelspec": {
   "display_name": "Python 3 (ipykernel)",
   "language": "python",
   "name": "python3"
  },
  "language_info": {
   "codemirror_mode": {
    "name": "ipython",
    "version": 3
   },
   "file_extension": ".py",
   "mimetype": "text/x-python",
   "name": "python",
   "nbconvert_exporter": "python",
   "pygments_lexer": "ipython3",
   "version": "3.12.2"
  }
 },
 "nbformat": 4,
 "nbformat_minor": 5
}
