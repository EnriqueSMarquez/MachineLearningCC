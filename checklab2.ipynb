{
 "cells": [
  {
   "cell_type": "code",
   "execution_count": 4,
   "id": "9fa1eb2e-9790-4e40-b284-65cea3785fd9",
   "metadata": {},
   "outputs": [],
   "source": []
  },
  {
   "cell_type": "code",
   "execution_count": 4,
   "id": "b5a63428-d91f-49f0-a318-079ad45094ff",
   "metadata": {},
   "outputs": [],
   "source": [
    "import torch\n",
    "from torchvision import models\n",
    "\n",
    "class FeatureExtractor:\n",
    "    def __init__(self):\n",
    "        self.model = models.vgg19(weights='IMAGENET1K_V1')\n",
    "        self.max_pooling_indices = [9, 18, 27, 36]\n",
    "        self.model.eval()\n",
    "        \n",
    "    @torch.no_grad()\n",
    "    def extract_feature_vector(self, x, stage=0, verbose=False):\n",
    "        for i, feature in enumerate(self.model.features):\n",
    "            if verbose:\n",
    "                print(f'Passing through layer {type(feature)}')\n",
    "            if i == self.max_pooling_indices[stage]:\n",
    "                return x\n",
    "            x = feature(x)"
   ]
  },
  {
   "cell_type": "code",
   "execution_count": 20,
   "id": "2d0d3ac5-26f7-4f10-a0a1-8e172fd92631",
   "metadata": {},
   "outputs": [
    {
     "data": {
      "text/plain": [
       "tensor([[[-2.1179, -2.1179, -2.1179,  ..., -2.1179, -2.1179, -2.1179],\n",
       "         [-2.1179, -2.1179, -2.1179,  ..., -2.1179, -2.1179, -2.1179],\n",
       "         [-2.1179, -2.1179, -2.1179,  ..., -2.1179, -2.1179, -2.1179],\n",
       "         ...,\n",
       "         [-2.1179, -2.1179, -2.1179,  ..., -2.1179, -2.1179, -2.1179],\n",
       "         [-2.1179, -2.1179, -2.1179,  ..., -2.1179, -2.1179, -2.1179],\n",
       "         [-2.1179, -2.1179, -2.1179,  ..., -2.1179, -2.1179, -2.1179]],\n",
       "\n",
       "        [[-2.0357, -2.0357, -2.0357,  ..., -2.0357, -2.0357, -2.0357],\n",
       "         [-2.0357, -2.0357, -2.0357,  ..., -2.0357, -2.0357, -2.0357],\n",
       "         [-2.0357, -2.0357, -2.0357,  ..., -2.0357, -2.0357, -2.0357],\n",
       "         ...,\n",
       "         [-2.0357, -2.0357, -2.0357,  ..., -2.0357, -2.0357, -2.0357],\n",
       "         [-2.0357, -2.0357, -2.0357,  ..., -2.0357, -2.0357, -2.0357],\n",
       "         [-2.0357, -2.0357, -2.0357,  ..., -2.0357, -2.0357, -2.0357]],\n",
       "\n",
       "        [[-1.8044, -1.8044, -1.8044,  ..., -1.8044, -1.8044, -1.8044],\n",
       "         [-1.8044, -1.8044, -1.8044,  ..., -1.8044, -1.8044, -1.8044],\n",
       "         [-1.8044, -1.8044, -1.8044,  ..., -1.8044, -1.8044, -1.8044],\n",
       "         ...,\n",
       "         [-1.8044, -1.8044, -1.8044,  ..., -1.8044, -1.8044, -1.8044],\n",
       "         [-1.8044, -1.8044, -1.8044,  ..., -1.8044, -1.8044, -1.8044],\n",
       "         [-1.8044, -1.8044, -1.8044,  ..., -1.8044, -1.8044, -1.8044]]])"
      ]
     },
     "execution_count": 20,
     "metadata": {},
     "output_type": "execute_result"
    }
   ],
   "source": [
    "from PIL import Image\n",
    "from torchvision import transforms\n",
    "backbone_transforms = transforms.Compose([transforms.ToTensor(),\n",
    "                                          transforms.Normalize([0.485, 0.456, 0.406], [0.229, 0.224, 0.225])])\n",
    "image = Image.fromarray(np.zeros((255,255,3), dtype=np.uint8))\n",
    "backbone_transforms(image)"
   ]
  },
  {
   "cell_type": "code",
   "execution_count": null,
   "id": "9bf78551-4f17-4513-9bd9-688b855b7ff7",
   "metadata": {},
   "outputs": [],
   "source": [
    "backbone_transforms(image)"
   ]
  },
  {
   "cell_type": "code",
   "execution_count": 6,
   "id": "a6352331-857e-4e58-99de-9f511f4a4e53",
   "metadata": {},
   "outputs": [],
   "source": [
    "fe = FeatureExtractor()"
   ]
  },
  {
   "cell_type": "code",
   "execution_count": 11,
   "id": "a87064d4-b46a-438c-8db1-dc3dedfb021a",
   "metadata": {},
   "outputs": [
    {
     "name": "stdout",
     "output_type": "stream",
     "text": [
      "Passing through layer <class 'torch.nn.modules.conv.Conv2d'>\n",
      "Passing through layer <class 'torch.nn.modules.activation.ReLU'>\n",
      "Passing through layer <class 'torch.nn.modules.conv.Conv2d'>\n",
      "Passing through layer <class 'torch.nn.modules.activation.ReLU'>\n",
      "Passing through layer <class 'torch.nn.modules.pooling.MaxPool2d'>\n",
      "Passing through layer <class 'torch.nn.modules.conv.Conv2d'>\n",
      "Passing through layer <class 'torch.nn.modules.activation.ReLU'>\n",
      "Passing through layer <class 'torch.nn.modules.conv.Conv2d'>\n",
      "Passing through layer <class 'torch.nn.modules.activation.ReLU'>\n",
      "Passing through layer <class 'torch.nn.modules.pooling.MaxPool2d'>\n",
      "Passing through layer <class 'torch.nn.modules.conv.Conv2d'>\n",
      "Passing through layer <class 'torch.nn.modules.activation.ReLU'>\n",
      "Passing through layer <class 'torch.nn.modules.conv.Conv2d'>\n",
      "Passing through layer <class 'torch.nn.modules.activation.ReLU'>\n",
      "Passing through layer <class 'torch.nn.modules.conv.Conv2d'>\n",
      "Passing through layer <class 'torch.nn.modules.activation.ReLU'>\n",
      "Passing through layer <class 'torch.nn.modules.conv.Conv2d'>\n",
      "Passing through layer <class 'torch.nn.modules.activation.ReLU'>\n",
      "Passing through layer <class 'torch.nn.modules.pooling.MaxPool2d'>\n",
      "Passing through layer <class 'torch.nn.modules.conv.Conv2d'>\n",
      "Passing through layer <class 'torch.nn.modules.activation.ReLU'>\n",
      "Passing through layer <class 'torch.nn.modules.conv.Conv2d'>\n",
      "Passing through layer <class 'torch.nn.modules.activation.ReLU'>\n",
      "Passing through layer <class 'torch.nn.modules.conv.Conv2d'>\n",
      "Passing through layer <class 'torch.nn.modules.activation.ReLU'>\n",
      "Passing through layer <class 'torch.nn.modules.conv.Conv2d'>\n",
      "Passing through layer <class 'torch.nn.modules.activation.ReLU'>\n",
      "Passing through layer <class 'torch.nn.modules.pooling.MaxPool2d'>\n",
      "Passing through layer <class 'torch.nn.modules.conv.Conv2d'>\n",
      "Passing through layer <class 'torch.nn.modules.activation.ReLU'>\n",
      "Passing through layer <class 'torch.nn.modules.conv.Conv2d'>\n",
      "Passing through layer <class 'torch.nn.modules.activation.ReLU'>\n",
      "Passing through layer <class 'torch.nn.modules.conv.Conv2d'>\n",
      "Passing through layer <class 'torch.nn.modules.activation.ReLU'>\n",
      "Passing through layer <class 'torch.nn.modules.conv.Conv2d'>\n",
      "Passing through layer <class 'torch.nn.modules.activation.ReLU'>\n",
      "Passing through layer <class 'torch.nn.modules.pooling.MaxPool2d'>\n"
     ]
    },
    {
     "data": {
      "text/plain": [
       "torch.Size([1, 512, 15, 15])"
      ]
     },
     "execution_count": 11,
     "metadata": {},
     "output_type": "execute_result"
    }
   ],
   "source": [
    "fe.extract_feature_vector(image,stage=3, verbose=True).shape"
   ]
  },
  {
   "cell_type": "code",
   "execution_count": 3,
   "id": "be8a1676-82c8-4e43-97e4-1241a08352d6",
   "metadata": {},
   "outputs": [
    {
     "data": {
      "text/plain": [
       "VGG(\n",
       "  (features): Sequential(\n",
       "    (0): Conv2d(3, 64, kernel_size=(3, 3), stride=(1, 1), padding=(1, 1))\n",
       "    (1): ReLU(inplace=True)\n",
       "    (2): Conv2d(64, 64, kernel_size=(3, 3), stride=(1, 1), padding=(1, 1))\n",
       "    (3): ReLU(inplace=True)\n",
       "    (4): MaxPool2d(kernel_size=2, stride=2, padding=0, dilation=1, ceil_mode=False)\n",
       "    (5): Conv2d(64, 128, kernel_size=(3, 3), stride=(1, 1), padding=(1, 1))\n",
       "    (6): ReLU(inplace=True)\n",
       "    (7): Conv2d(128, 128, kernel_size=(3, 3), stride=(1, 1), padding=(1, 1))\n",
       "    (8): ReLU(inplace=True)\n",
       "    (9): MaxPool2d(kernel_size=2, stride=2, padding=0, dilation=1, ceil_mode=False)\n",
       "    (10): Conv2d(128, 256, kernel_size=(3, 3), stride=(1, 1), padding=(1, 1))\n",
       "    (11): ReLU(inplace=True)\n",
       "    (12): Conv2d(256, 256, kernel_size=(3, 3), stride=(1, 1), padding=(1, 1))\n",
       "    (13): ReLU(inplace=True)\n",
       "    (14): Conv2d(256, 256, kernel_size=(3, 3), stride=(1, 1), padding=(1, 1))\n",
       "    (15): ReLU(inplace=True)\n",
       "    (16): Conv2d(256, 256, kernel_size=(3, 3), stride=(1, 1), padding=(1, 1))\n",
       "    (17): ReLU(inplace=True)\n",
       "    (18): MaxPool2d(kernel_size=2, stride=2, padding=0, dilation=1, ceil_mode=False)\n",
       "    (19): Conv2d(256, 512, kernel_size=(3, 3), stride=(1, 1), padding=(1, 1))\n",
       "    (20): ReLU(inplace=True)\n",
       "    (21): Conv2d(512, 512, kernel_size=(3, 3), stride=(1, 1), padding=(1, 1))\n",
       "    (22): ReLU(inplace=True)\n",
       "    (23): Conv2d(512, 512, kernel_size=(3, 3), stride=(1, 1), padding=(1, 1))\n",
       "    (24): ReLU(inplace=True)\n",
       "    (25): Conv2d(512, 512, kernel_size=(3, 3), stride=(1, 1), padding=(1, 1))\n",
       "    (26): ReLU(inplace=True)\n",
       "    (27): MaxPool2d(kernel_size=2, stride=2, padding=0, dilation=1, ceil_mode=False)\n",
       "    (28): Conv2d(512, 512, kernel_size=(3, 3), stride=(1, 1), padding=(1, 1))\n",
       "    (29): ReLU(inplace=True)\n",
       "    (30): Conv2d(512, 512, kernel_size=(3, 3), stride=(1, 1), padding=(1, 1))\n",
       "    (31): ReLU(inplace=True)\n",
       "    (32): Conv2d(512, 512, kernel_size=(3, 3), stride=(1, 1), padding=(1, 1))\n",
       "    (33): ReLU(inplace=True)\n",
       "    (34): Conv2d(512, 512, kernel_size=(3, 3), stride=(1, 1), padding=(1, 1))\n",
       "    (35): ReLU(inplace=True)\n",
       "    (36): MaxPool2d(kernel_size=2, stride=2, padding=0, dilation=1, ceil_mode=False)\n",
       "  )\n",
       "  (avgpool): AdaptiveAvgPool2d(output_size=(7, 7))\n",
       "  (classifier): Sequential(\n",
       "    (0): Linear(in_features=25088, out_features=4096, bias=True)\n",
       "    (1): ReLU(inplace=True)\n",
       "    (2): Dropout(p=0.5, inplace=False)\n",
       "    (3): Linear(in_features=4096, out_features=4096, bias=True)\n",
       "    (4): ReLU(inplace=True)\n",
       "    (5): Dropout(p=0.5, inplace=False)\n",
       "    (6): Linear(in_features=4096, out_features=1000, bias=True)\n",
       "  )\n",
       ")"
      ]
     },
     "execution_count": 3,
     "metadata": {},
     "output_type": "execute_result"
    }
   ],
   "source": [
    "models.vgg19(weights='IMAGENET1K_V1')"
   ]
  },
  {
   "cell_type": "code",
   "execution_count": 14,
   "id": "d34041c4-0f86-45a3-a3ac-11f01a8d1ed0",
   "metadata": {},
   "outputs": [],
   "source": [
    "fvs = []\n",
    "labels = []\n",
    "for image in range(10):\n",
    "    image = torch.zeros((1, 3, 255, 255)) ## IMAGEN\n",
    "    fv = fe.extract_feature_vector(image,stage=3, verbose=False).flatten().numpy()\n",
    "    fvs += [fv]\n",
    "    labels += [label]"
   ]
  },
  {
   "cell_type": "code",
   "execution_count": 16,
   "id": "85b73a49-48ab-41d3-9e3e-c709dd44f375",
   "metadata": {},
   "outputs": [
    {
     "data": {
      "text/plain": [
       "(10, 115200)"
      ]
     },
     "execution_count": 16,
     "metadata": {},
     "output_type": "execute_result"
    }
   ],
   "source": [
    "import numpy as np\n",
    "np.array(fvs).shape"
   ]
  },
  {
   "cell_type": "code",
   "execution_count": null,
   "id": "e171a4ec-8706-4d41-8f70-4e57d9e75b50",
   "metadata": {},
   "outputs": [],
   "source": []
  }
 ],
 "metadata": {
  "kernelspec": {
   "display_name": "Python 3 (ipykernel)",
   "language": "python",
   "name": "python3"
  },
  "language_info": {
   "codemirror_mode": {
    "name": "ipython",
    "version": 3
   },
   "file_extension": ".py",
   "mimetype": "text/x-python",
   "name": "python",
   "nbconvert_exporter": "python",
   "pygments_lexer": "ipython3",
   "version": "3.12.2"
  }
 },
 "nbformat": 4,
 "nbformat_minor": 5
}
