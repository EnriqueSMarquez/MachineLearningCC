{
 "cells": [
  {
   "cell_type": "code",
   "execution_count": 11,
   "id": "b5a63428-d91f-49f0-a318-079ad45094ff",
   "metadata": {},
   "outputs": [],
   "source": [
    "import torch\n",
    "from torchvision import models, transforms\n",
    "from PIL import Image\n",
    "from tqdm.notebook import tqdm\n",
    "import os\n",
    "import cv2\n",
    "\n",
    "class FeatureExtractor:\n",
    "    def __init__(self):\n",
    "        self.model = models.vgg19(weights='IMAGENET1K_V1')\n",
    "        self.max_pooling_indices = [9, 18, 27, 36]\n",
    "        self.model.eval()\n",
    "        \n",
    "    @torch.no_grad()\n",
    "    def extract_feature_vector(self, x, stage=0, verbose=False):\n",
    "        for i, feature in enumerate(self.model.features):\n",
    "            if verbose:\n",
    "                print(f'Passing through layer {type(feature)}')\n",
    "            if i == self.max_pooling_indices[stage]:\n",
    "                return x\n",
    "            x = feature(x)\n",
    "\n",
    "def resize_image(image, size):\n",
    "    h,w,c = image.shape\n",
    "\n",
    "    if h > w:\n",
    "        w = int(size*w/h)\n",
    "        h = size\n",
    "    else:\n",
    "        h = int(size*h/w)\n",
    "        w = size\n",
    "    new_image = np.zeros((size, size, 3), dtype=np.uint8)\n",
    "\n",
    "    image = cv2.resize(image, (w, h))\n",
    "    new_image[0:h, 0:w, :] = image\n",
    "    return new_image\n"
   ]
  },
  {
   "cell_type": "code",
   "execution_count": 45,
   "id": "4ea23e6f-7a91-456e-bb10-fb4ec3f85f5b",
   "metadata": {},
   "outputs": [
    {
     "data": {
      "application/vnd.jupyter.widget-view+json": {
       "model_id": "ca6f0d45cae840eea040773d766b617c",
       "version_major": 2,
       "version_minor": 0
      },
      "text/plain": [
       "  0%|          | 0/10 [00:00<?, ?it/s]"
      ]
     },
     "metadata": {},
     "output_type": "display_data"
    },
    {
     "data": {
      "application/vnd.jupyter.widget-view+json": {
       "model_id": "",
       "version_major": 2,
       "version_minor": 0
      },
      "text/plain": [
       "  0%|          | 0/40 [00:00<?, ?it/s]"
      ]
     },
     "metadata": {},
     "output_type": "display_data"
    },
    {
     "data": {
      "application/vnd.jupyter.widget-view+json": {
       "model_id": "",
       "version_major": 2,
       "version_minor": 0
      },
      "text/plain": [
       "  0%|          | 0/40 [00:00<?, ?it/s]"
      ]
     },
     "metadata": {},
     "output_type": "display_data"
    },
    {
     "data": {
      "application/vnd.jupyter.widget-view+json": {
       "model_id": "",
       "version_major": 2,
       "version_minor": 0
      },
      "text/plain": [
       "  0%|          | 0/40 [00:00<?, ?it/s]"
      ]
     },
     "metadata": {},
     "output_type": "display_data"
    },
    {
     "data": {
      "application/vnd.jupyter.widget-view+json": {
       "model_id": "",
       "version_major": 2,
       "version_minor": 0
      },
      "text/plain": [
       "  0%|          | 0/40 [00:00<?, ?it/s]"
      ]
     },
     "metadata": {},
     "output_type": "display_data"
    },
    {
     "data": {
      "application/vnd.jupyter.widget-view+json": {
       "model_id": "",
       "version_major": 2,
       "version_minor": 0
      },
      "text/plain": [
       "  0%|          | 0/40 [00:00<?, ?it/s]"
      ]
     },
     "metadata": {},
     "output_type": "display_data"
    },
    {
     "data": {
      "application/vnd.jupyter.widget-view+json": {
       "model_id": "",
       "version_major": 2,
       "version_minor": 0
      },
      "text/plain": [
       "  0%|          | 0/40 [00:00<?, ?it/s]"
      ]
     },
     "metadata": {},
     "output_type": "display_data"
    },
    {
     "data": {
      "application/vnd.jupyter.widget-view+json": {
       "model_id": "",
       "version_major": 2,
       "version_minor": 0
      },
      "text/plain": [
       "  0%|          | 0/40 [00:00<?, ?it/s]"
      ]
     },
     "metadata": {},
     "output_type": "display_data"
    },
    {
     "data": {
      "application/vnd.jupyter.widget-view+json": {
       "model_id": "",
       "version_major": 2,
       "version_minor": 0
      },
      "text/plain": [
       "  0%|          | 0/40 [00:00<?, ?it/s]"
      ]
     },
     "metadata": {},
     "output_type": "display_data"
    },
    {
     "data": {
      "application/vnd.jupyter.widget-view+json": {
       "model_id": "",
       "version_major": 2,
       "version_minor": 0
      },
      "text/plain": [
       "  0%|          | 0/40 [00:00<?, ?it/s]"
      ]
     },
     "metadata": {},
     "output_type": "display_data"
    }
   ],
   "source": [
    "## TRANSFORMAR IMAGE DATASET A VECTORES DE LA VGG\n",
    "\n",
    "feature_extractor = FeatureExtractor()\n",
    "backbone_transforms = transforms.Compose([transforms.ToTensor(),\n",
    "                                          transforms.Normalize([0.485, 0.456, 0.406], [0.229, 0.224, 0.225])])\n",
    "fruits_dataset_path = './data/fruits_dataset/'\n",
    "labels = []\n",
    "feature_vectors = []\n",
    "for label_name in tqdm(os.listdir(fruits_dataset_path)):\n",
    "    if label_name == '.DS_Store':\n",
    "        continue\n",
    "    folder_path = os.path.join(fruits_dataset_path, label_name)\n",
    "    for image_name in tqdm(os.listdir(folder_path), leave=False):\n",
    "        image_path = os.path.join(folder_path, image_name)\n",
    "        image = Image.open(image_path)\n",
    "        if image.mode in ['RGBA', 'L', 'P']:\n",
    "            image = image.convert('RGB')\n",
    "        image = np.array(image)[...,::-1]\n",
    "        image = resize_image(image, 255)\n",
    "        transformed_image = backbone_transforms(image).unsqueeze(0)\n",
    "        feature_vectors += [feature_extractor.extract_feature_vector(transformed_image, 3).flatten().numpy()]\n",
    "        labels += [label_name]\n",
    "        "
   ]
  },
  {
   "cell_type": "code",
   "execution_count": 50,
   "id": "133086f9-dfd1-4a96-bfb0-4d69d970d0dd",
   "metadata": {},
   "outputs": [],
   "source": [
    "fv_dataset = np.array(feature_vectors)\n",
    "labels = np.array(labels)\n",
    "labels2 = np.unique(labels, return_inverse=True)[1]"
   ]
  },
  {
   "cell_type": "code",
   "execution_count": 41,
   "id": "0c459454-dd91-4ce8-8ee4-9266e198860c",
   "metadata": {},
   "outputs": [],
   "source": [
    "image = Image.open(image_path)\n",
    "if image.mode in ['RGBA', 'L']:\n",
    "    image = image.convert('RGB')"
   ]
  },
  {
   "cell_type": "code",
   "execution_count": 44,
   "id": "b41b5672-965c-4f72-9c4c-6112595cb92a",
   "metadata": {},
   "outputs": [
    {
     "data": {
      "text/plain": [
       "'P'"
      ]
     },
     "execution_count": 44,
     "metadata": {},
     "output_type": "execute_result"
    }
   ],
   "source": [
    "image.mode"
   ]
  },
  {
   "cell_type": "code",
   "execution_count": 3,
   "id": "2d0d3ac5-26f7-4f10-a0a1-8e172fd92631",
   "metadata": {},
   "outputs": [
    {
     "ename": "NameError",
     "evalue": "name 'np' is not defined",
     "output_type": "error",
     "traceback": [
      "\u001b[0;31m---------------------------------------------------------------------------\u001b[0m",
      "\u001b[0;31mNameError\u001b[0m                                 Traceback (most recent call last)",
      "Cell \u001b[0;32mIn[3], line 4\u001b[0m\n\u001b[1;32m      1\u001b[0m \u001b[38;5;28;01mfrom\u001b[39;00m \u001b[38;5;21;01mPIL\u001b[39;00m \u001b[38;5;28;01mimport\u001b[39;00m Image\n\u001b[1;32m      2\u001b[0m \u001b[38;5;28;01mfrom\u001b[39;00m \u001b[38;5;21;01mtorchvision\u001b[39;00m \u001b[38;5;28;01mimport\u001b[39;00m transforms\n\u001b[0;32m----> 4\u001b[0m image \u001b[38;5;241m=\u001b[39m Image\u001b[38;5;241m.\u001b[39mfromarray(np\u001b[38;5;241m.\u001b[39mzeros((\u001b[38;5;241m255\u001b[39m,\u001b[38;5;241m255\u001b[39m,\u001b[38;5;241m3\u001b[39m), dtype\u001b[38;5;241m=\u001b[39mnp\u001b[38;5;241m.\u001b[39muint8))\n\u001b[1;32m      5\u001b[0m backbone_transforms(image)\n",
      "\u001b[0;31mNameError\u001b[0m: name 'np' is not defined"
     ]
    }
   ],
   "source": [
    "from PIL import Image\n",
    "from torchvision import transforms\n",
    "\n",
    "image = Image.fromarray(np.zeros((255,255,3), dtype=np.uint8))\n",
    "backbone_transforms(image)"
   ]
  },
  {
   "cell_type": "code",
   "execution_count": null,
   "id": "9bf78551-4f17-4513-9bd9-688b855b7ff7",
   "metadata": {},
   "outputs": [],
   "source": [
    "backbone_transforms(image)"
   ]
  },
  {
   "cell_type": "code",
   "execution_count": 6,
   "id": "a6352331-857e-4e58-99de-9f511f4a4e53",
   "metadata": {},
   "outputs": [],
   "source": [
    "fe = FeatureExtractor()"
   ]
  },
  {
   "cell_type": "code",
   "execution_count": 11,
   "id": "a87064d4-b46a-438c-8db1-dc3dedfb021a",
   "metadata": {},
   "outputs": [
    {
     "name": "stdout",
     "output_type": "stream",
     "text": [
      "Passing through layer <class 'torch.nn.modules.conv.Conv2d'>\n",
      "Passing through layer <class 'torch.nn.modules.activation.ReLU'>\n",
      "Passing through layer <class 'torch.nn.modules.conv.Conv2d'>\n",
      "Passing through layer <class 'torch.nn.modules.activation.ReLU'>\n",
      "Passing through layer <class 'torch.nn.modules.pooling.MaxPool2d'>\n",
      "Passing through layer <class 'torch.nn.modules.conv.Conv2d'>\n",
      "Passing through layer <class 'torch.nn.modules.activation.ReLU'>\n",
      "Passing through layer <class 'torch.nn.modules.conv.Conv2d'>\n",
      "Passing through layer <class 'torch.nn.modules.activation.ReLU'>\n",
      "Passing through layer <class 'torch.nn.modules.pooling.MaxPool2d'>\n",
      "Passing through layer <class 'torch.nn.modules.conv.Conv2d'>\n",
      "Passing through layer <class 'torch.nn.modules.activation.ReLU'>\n",
      "Passing through layer <class 'torch.nn.modules.conv.Conv2d'>\n",
      "Passing through layer <class 'torch.nn.modules.activation.ReLU'>\n",
      "Passing through layer <class 'torch.nn.modules.conv.Conv2d'>\n",
      "Passing through layer <class 'torch.nn.modules.activation.ReLU'>\n",
      "Passing through layer <class 'torch.nn.modules.conv.Conv2d'>\n",
      "Passing through layer <class 'torch.nn.modules.activation.ReLU'>\n",
      "Passing through layer <class 'torch.nn.modules.pooling.MaxPool2d'>\n",
      "Passing through layer <class 'torch.nn.modules.conv.Conv2d'>\n",
      "Passing through layer <class 'torch.nn.modules.activation.ReLU'>\n",
      "Passing through layer <class 'torch.nn.modules.conv.Conv2d'>\n",
      "Passing through layer <class 'torch.nn.modules.activation.ReLU'>\n",
      "Passing through layer <class 'torch.nn.modules.conv.Conv2d'>\n",
      "Passing through layer <class 'torch.nn.modules.activation.ReLU'>\n",
      "Passing through layer <class 'torch.nn.modules.conv.Conv2d'>\n",
      "Passing through layer <class 'torch.nn.modules.activation.ReLU'>\n",
      "Passing through layer <class 'torch.nn.modules.pooling.MaxPool2d'>\n",
      "Passing through layer <class 'torch.nn.modules.conv.Conv2d'>\n",
      "Passing through layer <class 'torch.nn.modules.activation.ReLU'>\n",
      "Passing through layer <class 'torch.nn.modules.conv.Conv2d'>\n",
      "Passing through layer <class 'torch.nn.modules.activation.ReLU'>\n",
      "Passing through layer <class 'torch.nn.modules.conv.Conv2d'>\n",
      "Passing through layer <class 'torch.nn.modules.activation.ReLU'>\n",
      "Passing through layer <class 'torch.nn.modules.conv.Conv2d'>\n",
      "Passing through layer <class 'torch.nn.modules.activation.ReLU'>\n",
      "Passing through layer <class 'torch.nn.modules.pooling.MaxPool2d'>\n"
     ]
    },
    {
     "data": {
      "text/plain": [
       "torch.Size([1, 512, 15, 15])"
      ]
     },
     "execution_count": 11,
     "metadata": {},
     "output_type": "execute_result"
    }
   ],
   "source": [
    "fe.extract_feature_vector(image,stage=3, verbose=True).shape"
   ]
  },
  {
   "cell_type": "code",
   "execution_count": 3,
   "id": "be8a1676-82c8-4e43-97e4-1241a08352d6",
   "metadata": {},
   "outputs": [
    {
     "data": {
      "text/plain": [
       "VGG(\n",
       "  (features): Sequential(\n",
       "    (0): Conv2d(3, 64, kernel_size=(3, 3), stride=(1, 1), padding=(1, 1))\n",
       "    (1): ReLU(inplace=True)\n",
       "    (2): Conv2d(64, 64, kernel_size=(3, 3), stride=(1, 1), padding=(1, 1))\n",
       "    (3): ReLU(inplace=True)\n",
       "    (4): MaxPool2d(kernel_size=2, stride=2, padding=0, dilation=1, ceil_mode=False)\n",
       "    (5): Conv2d(64, 128, kernel_size=(3, 3), stride=(1, 1), padding=(1, 1))\n",
       "    (6): ReLU(inplace=True)\n",
       "    (7): Conv2d(128, 128, kernel_size=(3, 3), stride=(1, 1), padding=(1, 1))\n",
       "    (8): ReLU(inplace=True)\n",
       "    (9): MaxPool2d(kernel_size=2, stride=2, padding=0, dilation=1, ceil_mode=False)\n",
       "    (10): Conv2d(128, 256, kernel_size=(3, 3), stride=(1, 1), padding=(1, 1))\n",
       "    (11): ReLU(inplace=True)\n",
       "    (12): Conv2d(256, 256, kernel_size=(3, 3), stride=(1, 1), padding=(1, 1))\n",
       "    (13): ReLU(inplace=True)\n",
       "    (14): Conv2d(256, 256, kernel_size=(3, 3), stride=(1, 1), padding=(1, 1))\n",
       "    (15): ReLU(inplace=True)\n",
       "    (16): Conv2d(256, 256, kernel_size=(3, 3), stride=(1, 1), padding=(1, 1))\n",
       "    (17): ReLU(inplace=True)\n",
       "    (18): MaxPool2d(kernel_size=2, stride=2, padding=0, dilation=1, ceil_mode=False)\n",
       "    (19): Conv2d(256, 512, kernel_size=(3, 3), stride=(1, 1), padding=(1, 1))\n",
       "    (20): ReLU(inplace=True)\n",
       "    (21): Conv2d(512, 512, kernel_size=(3, 3), stride=(1, 1), padding=(1, 1))\n",
       "    (22): ReLU(inplace=True)\n",
       "    (23): Conv2d(512, 512, kernel_size=(3, 3), stride=(1, 1), padding=(1, 1))\n",
       "    (24): ReLU(inplace=True)\n",
       "    (25): Conv2d(512, 512, kernel_size=(3, 3), stride=(1, 1), padding=(1, 1))\n",
       "    (26): ReLU(inplace=True)\n",
       "    (27): MaxPool2d(kernel_size=2, stride=2, padding=0, dilation=1, ceil_mode=False)\n",
       "    (28): Conv2d(512, 512, kernel_size=(3, 3), stride=(1, 1), padding=(1, 1))\n",
       "    (29): ReLU(inplace=True)\n",
       "    (30): Conv2d(512, 512, kernel_size=(3, 3), stride=(1, 1), padding=(1, 1))\n",
       "    (31): ReLU(inplace=True)\n",
       "    (32): Conv2d(512, 512, kernel_size=(3, 3), stride=(1, 1), padding=(1, 1))\n",
       "    (33): ReLU(inplace=True)\n",
       "    (34): Conv2d(512, 512, kernel_size=(3, 3), stride=(1, 1), padding=(1, 1))\n",
       "    (35): ReLU(inplace=True)\n",
       "    (36): MaxPool2d(kernel_size=2, stride=2, padding=0, dilation=1, ceil_mode=False)\n",
       "  )\n",
       "  (avgpool): AdaptiveAvgPool2d(output_size=(7, 7))\n",
       "  (classifier): Sequential(\n",
       "    (0): Linear(in_features=25088, out_features=4096, bias=True)\n",
       "    (1): ReLU(inplace=True)\n",
       "    (2): Dropout(p=0.5, inplace=False)\n",
       "    (3): Linear(in_features=4096, out_features=4096, bias=True)\n",
       "    (4): ReLU(inplace=True)\n",
       "    (5): Dropout(p=0.5, inplace=False)\n",
       "    (6): Linear(in_features=4096, out_features=1000, bias=True)\n",
       "  )\n",
       ")"
      ]
     },
     "execution_count": 3,
     "metadata": {},
     "output_type": "execute_result"
    }
   ],
   "source": [
    "models.vgg19(weights='IMAGENET1K_V1')"
   ]
  },
  {
   "cell_type": "code",
   "execution_count": 14,
   "id": "d34041c4-0f86-45a3-a3ac-11f01a8d1ed0",
   "metadata": {},
   "outputs": [],
   "source": [
    "fvs = []\n",
    "labels = []\n",
    "for image in range(10):\n",
    "    image = torch.zeros((1, 3, 255, 255)) ## IMAGEN\n",
    "    fv = fe.extract_feature_vector(image,stage=3, verbose=False).flatten().numpy()\n",
    "    fvs += [fv]\n",
    "    labels += [label]"
   ]
  },
  {
   "cell_type": "code",
   "execution_count": 16,
   "id": "85b73a49-48ab-41d3-9e3e-c709dd44f375",
   "metadata": {},
   "outputs": [
    {
     "data": {
      "text/plain": [
       "(10, 115200)"
      ]
     },
     "execution_count": 16,
     "metadata": {},
     "output_type": "execute_result"
    }
   ],
   "source": [
    "import numpy as np\n",
    "np.array(fvs).shape"
   ]
  },
  {
   "cell_type": "code",
   "execution_count": null,
   "id": "e171a4ec-8706-4d41-8f70-4e57d9e75b50",
   "metadata": {},
   "outputs": [],
   "source": []
  }
 ],
 "metadata": {
  "kernelspec": {
   "display_name": "Python 3 (ipykernel)",
   "language": "python",
   "name": "python3"
  },
  "language_info": {
   "codemirror_mode": {
    "name": "ipython",
    "version": 3
   },
   "file_extension": ".py",
   "mimetype": "text/x-python",
   "name": "python",
   "nbconvert_exporter": "python",
   "pygments_lexer": "ipython3",
   "version": "3.12.2"
  }
 },
 "nbformat": 4,
 "nbformat_minor": 5
}
