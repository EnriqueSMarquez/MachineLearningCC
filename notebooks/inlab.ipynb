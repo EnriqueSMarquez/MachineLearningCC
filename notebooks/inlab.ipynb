{
 "cells": [
  {
   "cell_type": "code",
   "execution_count": 14,
   "id": "629ac6a3-3281-4d89-ad59-1c96c2aedd5c",
   "metadata": {},
   "outputs": [],
   "source": [
    "import os\n",
    "import torch\n",
    "import cv2\n",
    "import pandas as pd\n",
    "\n",
    "class CustomDataset(torch.utils.data.Dataset):\n",
    "    def __init__(self, folder_path, labels_df, labels_to_index, transforms=None):\n",
    "        self.folder_path = folder_path\n",
    "        self.labels_df = labels_df\n",
    "        self.labels_to_index = labels_to_index\n",
    "        self.transforms = transforms #Augmentation and ToTensor\n",
    "    \n",
    "    def __getitem__(self, index):\n",
    "        '''Read index image + label and return it'''\n",
    "        input_data = self.labels_df.loc[index, :]\n",
    "        image = cv2.imread(os.path.join(self.folder_path, input_data['image_name']),\n",
    "        cv2.IMREAD_UNCHANGED) #Read image\n",
    "        label = self.labels_to_index[input_data['label']] #Change label to number\n",
    "        if self.transforms:\n",
    "            image = self.transforms(image) #Run given transformations / augmentations\n",
    "        \n",
    "        return image, label\n",
    "    def __len__(self):\n",
    "        return len(self.labels)\n"
   ]
  },
  {
   "cell_type": "code",
   "execution_count": 4,
   "id": "9ac66afb-8980-413d-a5d6-1643c3bf69db",
   "metadata": {},
   "outputs": [
    {
     "data": {
      "text/html": [
       "<div>\n",
       "<style scoped>\n",
       "    .dataframe tbody tr th:only-of-type {\n",
       "        vertical-align: middle;\n",
       "    }\n",
       "\n",
       "    .dataframe tbody tr th {\n",
       "        vertical-align: top;\n",
       "    }\n",
       "\n",
       "    .dataframe thead th {\n",
       "        text-align: right;\n",
       "    }\n",
       "</style>\n",
       "<table border=\"1\" class=\"dataframe\">\n",
       "  <thead>\n",
       "    <tr style=\"text-align: right;\">\n",
       "      <th></th>\n",
       "      <th>image_name</th>\n",
       "      <th>label</th>\n",
       "    </tr>\n",
       "  </thead>\n",
       "  <tbody>\n",
       "    <tr>\n",
       "      <th>0</th>\n",
       "      <td>0.jpg</td>\n",
       "      <td>frog</td>\n",
       "    </tr>\n",
       "    <tr>\n",
       "      <th>1</th>\n",
       "      <td>1.jpg</td>\n",
       "      <td>truck</td>\n",
       "    </tr>\n",
       "    <tr>\n",
       "      <th>2</th>\n",
       "      <td>2.jpg</td>\n",
       "      <td>truck</td>\n",
       "    </tr>\n",
       "    <tr>\n",
       "      <th>3</th>\n",
       "      <td>3.jpg</td>\n",
       "      <td>deer</td>\n",
       "    </tr>\n",
       "    <tr>\n",
       "      <th>4</th>\n",
       "      <td>4.jpg</td>\n",
       "      <td>automobile</td>\n",
       "    </tr>\n",
       "    <tr>\n",
       "      <th>...</th>\n",
       "      <td>...</td>\n",
       "      <td>...</td>\n",
       "    </tr>\n",
       "    <tr>\n",
       "      <th>49995</th>\n",
       "      <td>49995.jpg</td>\n",
       "      <td>bird</td>\n",
       "    </tr>\n",
       "    <tr>\n",
       "      <th>49996</th>\n",
       "      <td>49996.jpg</td>\n",
       "      <td>frog</td>\n",
       "    </tr>\n",
       "    <tr>\n",
       "      <th>49997</th>\n",
       "      <td>49997.jpg</td>\n",
       "      <td>truck</td>\n",
       "    </tr>\n",
       "    <tr>\n",
       "      <th>49998</th>\n",
       "      <td>49998.jpg</td>\n",
       "      <td>automobile</td>\n",
       "    </tr>\n",
       "    <tr>\n",
       "      <th>49999</th>\n",
       "      <td>49999.jpg</td>\n",
       "      <td>automobile</td>\n",
       "    </tr>\n",
       "  </tbody>\n",
       "</table>\n",
       "<p>50000 rows × 2 columns</p>\n",
       "</div>"
      ],
      "text/plain": [
       "      image_name       label\n",
       "0          0.jpg        frog\n",
       "1          1.jpg       truck\n",
       "2          2.jpg       truck\n",
       "3          3.jpg        deer\n",
       "4          4.jpg  automobile\n",
       "...          ...         ...\n",
       "49995  49995.jpg        bird\n",
       "49996  49996.jpg        frog\n",
       "49997  49997.jpg       truck\n",
       "49998  49998.jpg  automobile\n",
       "49999  49999.jpg  automobile\n",
       "\n",
       "[50000 rows x 2 columns]"
      ]
     },
     "execution_count": 4,
     "metadata": {},
     "output_type": "execute_result"
    }
   ],
   "source": [
    "training_labels = pd.read_csv('./CIFAR-10/training_labels.csv')\n",
    "training_labels"
   ]
  },
  {
   "cell_type": "code",
   "execution_count": 6,
   "id": "8b0d6b50-ddba-45af-ae74-b852d3114bb8",
   "metadata": {},
   "outputs": [],
   "source": [
    "training_df = training_labels.loc[0:int(0.7*len(training_labels)), :]\n",
    "validation_df = training_labels.loc[int(0.7*len(training_labels)) + 1::, :]\n",
    "\n",
    "training_df.to_csv('real_train.csv', index=False)\n",
    "validation_df.to_csv('real_val.csv', index=False)\n"
   ]
  },
  {
   "cell_type": "code",
   "execution_count": 9,
   "id": "6e01a624-fe5e-4e77-914e-19e5aab2ba82",
   "metadata": {},
   "outputs": [],
   "source": [
    "labels2index = {name : index for index, name in enumerate(pd.unique(training_df['label']))}"
   ]
  },
  {
   "cell_type": "code",
   "execution_count": 15,
   "id": "c2e2c3a3-778a-4536-b7fe-3c2bab1af88b",
   "metadata": {},
   "outputs": [],
   "source": [
    "training_folder = './CIFAR-10/train/'\n",
    "training_dataset = CustomDataset(training_folder, training_df, labels2index)\n",
    "validation_dataset = CustomDataset(training_folder, validation_df, labels2index)\n"
   ]
  },
  {
   "cell_type": "code",
   "execution_count": 19,
   "id": "4bc3c3aa-900f-424c-ab64-8e6a926bded6",
   "metadata": {},
   "outputs": [
    {
     "data": {
      "image/jpeg": "[encoded data removed]",
      "image/png": "[encoded data removed]",
      "text/plain": [
       "<PIL.Image.Image image mode=RGB size=32x32>"
      ]
     },
     "execution_count": 19,
     "metadata": {},
     "output_type": "execute_result"
    }
   ],
   "source": [
    "from PIL import Image\n",
    "\n",
    "Image.fromarray(training_dataset[0][0])"
   ]
  },
  {
   "cell_type": "code",
   "execution_count": 20,
   "id": "d2ad9252-f609-4b56-8694-36b72620f5ba",
   "metadata": {},
   "outputs": [
    {
     "data": {
      "text/plain": [
       "0"
      ]
     },
     "execution_count": 20,
     "metadata": {},
     "output_type": "execute_result"
    }
   ],
   "source": [
    "training_dataset[0][1]"
   ]
  },
  {
   "cell_type": "code",
   "execution_count": 82,
   "id": "e5b73941-b552-4a10-ac64-5e3517d62b63",
   "metadata": {},
   "outputs": [],
   "source": [
    "import json\n",
    "\n",
    "with open('./CIFAR-10/labels2index.json', 'w') as f:\n",
    "    json.dump(labels2index, f)"
   ]
  },
  {
   "cell_type": "code",
   "execution_count": 50,
   "id": "c2226c2e-9b3d-43c1-a962-e999c1ee28fd",
   "metadata": {},
   "outputs": [],
   "source": [
    "from torch import nn\n",
    "import torch.nn.functional as F\n",
    "\n",
    "class SimpleCNN(nn.Module):\n",
    "    def __init__(self, nb_classes, n_channels, img_size=(255, 255)):\n",
    "        super().__init__()\n",
    "        self.conv1 = nn.Conv2d(in_channels=n_channels, out_channels=64,\n",
    "                               kernel_size=3, padding=1)\n",
    "        self.conv2 = nn.Conv2d(in_channels=64, out_channels=64,\n",
    "                               kernel_size=3, padding=1)\n",
    "        self.conv3 = nn.Conv2d(in_channels=64, out_channels=64,\n",
    "                               kernel_size=5, padding=2)\n",
    "        self.max_pool = nn.MaxPool2d((2, 2), stride=2)\n",
    "        vector_size = img_size[0] // 2 * img_size[1] // 2 * 64\n",
    "        self.fc = nn.Linear(vector_size, nb_classes)\n",
    "        self.nb_classes = nb_classes\n",
    "        self.dropout = nn.Dropout(p=0.5)\n",
    "\n",
    "    def forward(self, x):\n",
    "        x = F.relu(self.conv1(x))\n",
    "        x = self.max_pool(x)\n",
    "        x = F.relu(self.conv2(x))\n",
    "        x = F.relu(self.conv3(x))\n",
    "        x = x.view(len(x), -1)\n",
    "        x = self.dropout(x)\n",
    "        return self.fc(x)\n",
    "\n",
    "    @torch.no_grad()\n",
    "    def get_all_features(self, x):\n",
    "        conv1 = F.relu(self.conv1(x))\n",
    "        max_pool = self.max_pool(conv1)\n",
    "        conv2 = F.relu(self.conv2(max_pool))\n",
    "        conv3 = F.relu(self.conv3(conv2))\n",
    "        flatten = conv3.view(len(conv3), -1)\n",
    "        dropout = self.dropout(flatten)\n",
    "        fc = self.fc(dropout)\n",
    "        return [conv1, max_pool, conv2, conv3, flatten, dropout, fc]"
   ]
  },
  {
   "cell_type": "code",
   "execution_count": 51,
   "id": "313ac66a-1120-4c81-a1a8-17cf2d4ae012",
   "metadata": {},
   "outputs": [],
   "source": [
    "model = SimpleCNN(10, 3, (32, 32))"
   ]
  },
  {
   "cell_type": "code",
   "execution_count": 45,
   "id": "af2c8b1d-8d27-4b22-af02-85bd655c642d",
   "metadata": {},
   "outputs": [
    {
     "data": {
      "text/plain": [
       "SimpleCNN(\n",
       "  (conv1): Conv2d(3, 64, kernel_size=(3, 3), stride=(1, 1), padding=(1, 1))\n",
       "  (conv2): Conv2d(64, 64, kernel_size=(3, 3), stride=(1, 1), padding=(1, 1))\n",
       "  (conv3): Conv2d(64, 64, kernel_size=(5, 5), stride=(1, 1), padding=(2, 2))\n",
       "  (max_pool): MaxPool2d(kernel_size=(2, 2), stride=2, padding=0, dilation=1, ceil_mode=False)\n",
       "  (fc): Linear(in_features=16384, out_features=10, bias=True)\n",
       "  (dropout): Dropout(p=0.5, inplace=False)\n",
       ")"
      ]
     },
     "execution_count": 45,
     "metadata": {},
     "output_type": "execute_result"
    }
   ],
   "source": [
    "model"
   ]
  },
  {
   "cell_type": "code",
   "execution_count": 32,
   "id": "54019aa4-ec0f-4b30-bc06-e23b63ca548e",
   "metadata": {},
   "outputs": [],
   "source": [
    "from torchvision import transforms\n",
    "\n",
    "training_transforms = transforms.ToTensor()\n",
    "training_dataset = CustomDataset(training_folder, training_df, labels2index, transforms=training_transforms)\n",
    "validation_dataset = CustomDataset(training_folder, validation_df, labels2index, transforms=training_transforms)"
   ]
  },
  {
   "cell_type": "code",
   "execution_count": 34,
   "id": "00594479-494c-48a7-84da-a82f9c9180bd",
   "metadata": {},
   "outputs": [
    {
     "data": {
      "text/plain": [
       "torch.Size([3, 32, 32])"
      ]
     },
     "execution_count": 34,
     "metadata": {},
     "output_type": "execute_result"
    }
   ],
   "source": [
    "training_dataset[0][0].shape"
   ]
  },
  {
   "cell_type": "code",
   "execution_count": 46,
   "id": "e3d4429e-623e-49ff-b774-454cd94d81fb",
   "metadata": {},
   "outputs": [
    {
     "data": {
      "text/plain": [
       "tensor([[ 0.0004, -0.0297, -0.0154, -0.0223,  0.0017,  0.0580, -0.0194,  0.0079,\n",
       "         -0.0446, -0.0224]], grad_fn=<AddmmBackward0>)"
      ]
     },
     "execution_count": 46,
     "metadata": {},
     "output_type": "execute_result"
    }
   ],
   "source": [
    "model(training_dataset[0][0].unsqueeze(0))"
   ]
  },
  {
   "cell_type": "code",
   "execution_count": 37,
   "id": "37d19e31-80ed-48b7-a361-fa53ba45de25",
   "metadata": {},
   "outputs": [
    {
     "data": {
      "text/plain": [
       "torch.Size([1, 3, 32, 32])"
      ]
     },
     "execution_count": 37,
     "metadata": {},
     "output_type": "execute_result"
    }
   ],
   "source": [
    "training_dataset[0][0].unsqueeze(0).shape"
   ]
  },
  {
   "cell_type": "code",
   "execution_count": 79,
   "id": "51828bd3-8dea-485a-b845-3aca17cadd51",
   "metadata": {},
   "outputs": [
    {
     "data": {
      "text/plain": [
       "tensor([[-0.0039, -0.0004,  0.0024, -0.0113,  0.0010, -0.0190,  0.0104, -0.0084,\n",
       "          0.0311,  0.0074]], grad_fn=<AddmmBackward0>)"
      ]
     },
     "execution_count": 79,
     "metadata": {},
     "output_type": "execute_result"
    }
   ],
   "source": [
    "blank_image = torch.zeros((1,3,32,32))\n",
    "model(blank_image)"
   ]
  },
  {
   "cell_type": "code",
   "execution_count": 53,
   "id": "b965f679-eeb5-4cc6-a6d3-c961af93ed39",
   "metadata": {},
   "outputs": [
    {
     "name": "stdout",
     "output_type": "stream",
     "text": [
      "torch.Size([1, 64, 32, 32])\n",
      "torch.Size([1, 64, 16, 16])\n",
      "torch.Size([1, 64, 16, 16])\n",
      "torch.Size([1, 64, 16, 16])\n",
      "torch.Size([1, 16384])\n",
      "torch.Size([1, 16384])\n",
      "torch.Size([1, 10])\n"
     ]
    }
   ],
   "source": [
    "for feature in model.get_all_features(blank_image):\n",
    "    print(feature.shape)"
   ]
  },
  {
   "cell_type": "code",
   "execution_count": 73,
   "id": "dfda49f2-a991-48f8-9143-00afacd8efc0",
   "metadata": {},
   "outputs": [
    {
     "data": {
      "text/plain": [
       "SimpleCNN(\n",
       "  (conv1): Conv2d(3, 64, kernel_size=(3, 3), stride=(1, 1), padding=(1, 1))\n",
       "  (conv2): Conv2d(64, 64, kernel_size=(3, 3), stride=(1, 1), padding=(1, 1))\n",
       "  (conv3): Conv2d(64, 64, kernel_size=(5, 5), stride=(1, 1), padding=(2, 2))\n",
       "  (max_pool): MaxPool2d(kernel_size=(2, 2), stride=2, padding=0, dilation=1, ceil_mode=False)\n",
       "  (fc): Linear(in_features=16384, out_features=10, bias=True)\n",
       "  (dropout): Dropout(p=0.5, inplace=False)\n",
       ")"
      ]
     },
     "execution_count": 73,
     "metadata": {},
     "output_type": "execute_result"
    }
   ],
   "source": [
    "model.train()"
   ]
  },
  {
   "cell_type": "code",
   "execution_count": 80,
   "id": "27e143ba-9d32-4bbd-9adf-507e3c4c5d1a",
   "metadata": {},
   "outputs": [
    {
     "name": "stdout",
     "output_type": "stream",
     "text": [
      "/Users/ucu-em/UniversidadCatolicaMontevideo/MachineLearningModule/Lab1\n"
     ]
    }
   ],
   "source": [
    "!pwd"
   ]
  },
  {
   "cell_type": "code",
   "execution_count": 83,
   "id": "63f4a432-692f-43db-8982-b8b216445439",
   "metadata": {},
   "outputs": [],
   "source": [
    "import matplotlib\n",
    "import matplotlib.pyplot as plt\n",
    "import seaborn as sbn\n",
    "sbn.set('notebook')\n",
    "sbn.set_style('whitegrid')"
   ]
  },
  {
   "cell_type": "code",
   "execution_count": 93,
   "id": "f7a06cd1-b28f-43db-a591-116ceb262e7f",
   "metadata": {},
   "outputs": [],
   "source": [
    "with open('../Lab1/scripts/run1.json', 'r') as f:\n",
    "    results = json.load(f)\n",
    "# results"
   ]
  },
  {
   "cell_type": "code",
   "execution_count": 94,
   "id": "6010116e-85b8-4ced-9d7e-25c83742cde8",
   "metadata": {},
   "outputs": [
    {
     "data": {
      "text/plain": [
       "Text(0, 0.5, 'Metric')"
      ]
     },
     "execution_count": 94,
     "metadata": {},
     "output_type": "execute_result"
    },
    {
     "data": {
      "image/png": "[encoded data removed]",
      "text/plain": [
       "<Figure size 800x500 with 1 Axes>"
      ]
     },
     "metadata": {},
     "output_type": "display_data"
    }
   ],
   "source": [
    "plt.figure(figsize=(8,5))\n",
    "\n",
    "for metric_name, metric_value in results.items():\n",
    "    plt.plot(range(len(metric_value)), metric_value, label=metric_name)\n",
    "plt.legend(loc=0)\n",
    "plt.xlabel('Epochs')\n",
    "plt.ylabel('Metric')"
   ]
  },
  {
   "cell_type": "code",
   "execution_count": 100,
   "id": "593523c6-4c23-4db9-a4ac-503210895659",
   "metadata": {},
   "outputs": [],
   "source": [
    "class MLP(nn.Module):\n",
    "    def __init__(self, in_dim, hidden_dim, nb_classes):\n",
    "        super().__init__()\n",
    "        self.fc1 = nn.Linear(in_dim, hidden_dim)\n",
    "        self.fc2 = nn.Linear(hidden_dim, hidden_dim)\n",
    "        self.fc3 = nn.Linear(hidden_dim, nb_classes)\n",
    "        self.dropout = nn.Dropout(0.5)\n",
    "        self.relu = nn.ReLU()\n",
    "        self.nb_classes = nb_classes\n",
    "\n",
    "    def forward(self, x):\n",
    "        x = self.fc1(x)\n",
    "        x = self.dropout(x)\n",
    "        x = self.relu(x)\n",
    "        x = self.fc2(x)\n",
    "        x = self.dropout(x)\n",
    "        x = self.relu(x)\n",
    "        x = self.fc3(x)\n",
    "        return x        "
   ]
  },
  {
   "cell_type": "code",
   "execution_count": 101,
   "id": "e16a71ff-e8c7-4b3f-a94a-a4f1ef6bac24",
   "metadata": {},
   "outputs": [
    {
     "data": {
      "text/plain": [
       "MLP(\n",
       "  (fc1): Linear(in_features=12, out_features=25, bias=True)\n",
       "  (fc2): Linear(in_features=25, out_features=25, bias=True)\n",
       "  (fc3): Linear(in_features=25, out_features=10, bias=True)\n",
       "  (dropout): Dropout(p=0.5, inplace=False)\n",
       "  (relu): ReLU()\n",
       ")"
      ]
     },
     "execution_count": 101,
     "metadata": {},
     "output_type": "execute_result"
    }
   ],
   "source": [
    "MLP(12,25,10)"
   ]
  },
  {
   "cell_type": "code",
   "execution_count": 111,
   "id": "1b59a21f-749c-41b6-8214-dac3fc24ae2e",
   "metadata": {},
   "outputs": [],
   "source": [
    "class CustomDataset(torch.utils.data.Dataset):\n",
    "    def __init__(self, folder_path, labels_df, labels_to_index, transforms=None):\n",
    "        self.folder_path = folder_path\n",
    "        self.labels_df = labels_df\n",
    "        self.labels_to_index = labels_to_index\n",
    "        self.transforms = transforms #Augmentation and ToTensor\n",
    "    \n",
    "    def __getitem__(self, index):\n",
    "        '''Read index image + label and return it'''\n",
    "        input_data = self.labels_df.loc[index, :]\n",
    "        image = cv2.imread(os.path.join(self.folder_path, input_data['image_name']),\n",
    "        cv2.IMREAD_UNCHANGED) #Read image\n",
    "        label = self.labels_to_index[input_data['label']] #Change label to number\n",
    "        if self.transforms:\n",
    "            image = self.transforms(image) #Run given transformations / augmentations\n",
    "        image = image.flatten()\n",
    "        return image, label\n",
    "    def __len__(self):\n",
    "        return len(self.labels)\n"
   ]
  },
  {
   "cell_type": "code",
   "execution_count": 114,
   "id": "72781089-ee8c-4792-9988-4e89347f12d5",
   "metadata": {},
   "outputs": [],
   "source": [
    "training_folder = './CIFAR-10/train/'\n",
    "training_dataset = CustomDataset(training_folder, training_df, labels2index)\n",
    "validation_dataset = CustomDataset(training_folder, validation_df, labels2index)\n"
   ]
  },
  {
   "cell_type": "code",
   "execution_count": 116,
   "id": "1729ea03-3aa3-46f8-90ad-130f15b08245",
   "metadata": {},
   "outputs": [],
   "source": [
    "X, Y = [], []\n",
    "for i, (x, y) in enumerate(training_dataset):\n",
    "    X += [x]\n",
    "    Y += [y]\n",
    "    if i == 10:\n",
    "        break"
   ]
  },
  {
   "cell_type": "code",
   "execution_count": 119,
   "id": "ecfb48f2-6dc1-4239-9ac6-37f5f70ecc2b",
   "metadata": {},
   "outputs": [
    {
     "data": {
      "text/plain": [
       "(11, 3072)"
      ]
     },
     "execution_count": 119,
     "metadata": {},
     "output_type": "execute_result"
    }
   ],
   "source": [
    "import numpy as np\n",
    "np.stack(X).shape"
   ]
  },
  {
   "cell_type": "code",
   "execution_count": 121,
   "id": "0fa49eba-899c-46db-9d97-1bed26e0ce32",
   "metadata": {},
   "outputs": [
    {
     "data": {
      "text/plain": [
       "[0, 1, 1, 2, 3, 3, 4, 5, 6, 7, 2]"
      ]
     },
     "execution_count": 121,
     "metadata": {},
     "output_type": "execute_result"
    }
   ],
   "source": [
    "Y"
   ]
  },
  {
   "cell_type": "code",
   "execution_count": null,
   "id": "507140f8-cd55-46a2-b40f-b2258cb6bdbb",
   "metadata": {},
   "outputs": [],
   "source": []
  }
 ],
 "metadata": {
  "kernelspec": {
   "display_name": "Python 3 (ipykernel)",
   "language": "python",
   "name": "python3"
  },
  "language_info": {
   "codemirror_mode": {
    "name": "ipython",
    "version": 3
   },
   "file_extension": ".py",
   "mimetype": "text/x-python",
   "name": "python",
   "nbconvert_exporter": "python",
   "pygments_lexer": "ipython3",
   "version": "3.12.2"
  }
 },
 "nbformat": 4,
 "nbformat_minor": 5
}
